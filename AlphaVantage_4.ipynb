{
  "nbformat": 4,
  "nbformat_minor": 0,
  "metadata": {
    "colab": {
      "name": "AlphaVantage.ipynb",
      "provenance": [],
      "collapsed_sections": [],
      "toc_visible": true,
      "authorship_tag": "ABX9TyN18ojTrns4obOuOdpwcn3/",
      "include_colab_link": true
    },
    "kernelspec": {
      "name": "python3",
      "display_name": "Python 3"
    },
    "language_info": {
      "name": "python"
    }
  },
  "cells": [
    {
      "cell_type": "markdown",
      "metadata": {
        "id": "view-in-github",
        "colab_type": "text"
      },
      "source": [
        "<a href=\"https://colab.research.google.com/github/edmartins-br/ConsumingAlphaVantageAPI/blob/main/AlphaVantage_4.ipynb\" target=\"_parent\"><img src=\"https://colab.research.google.com/assets/colab-badge.svg\" alt=\"Open In Colab\"/></a>"
      ]
    },
    {
      "cell_type": "code",
      "metadata": {
        "colab": {
          "base_uri": "https://localhost:8080/"
        },
        "id": "Xr39HkXTfG2z",
        "outputId": "bc21e8ac-73fb-4da9-c3a2-6fce692d0a7f"
      },
      "source": [
        "pip install alpha_vantage"
      ],
      "execution_count": 2,
      "outputs": [
        {
          "output_type": "stream",
          "text": [
            "Collecting alpha_vantage\n",
            "  Downloading https://files.pythonhosted.org/packages/ba/b4/d95f9e0eccea6732bab5a079772d453a4f0b68a9f63740d9cf320f92beaa/alpha_vantage-2.3.1-py3-none-any.whl\n",
            "Requirement already satisfied: requests in /usr/local/lib/python3.7/dist-packages (from alpha_vantage) (2.23.0)\n",
            "Collecting aiohttp\n",
            "\u001b[?25l  Downloading https://files.pythonhosted.org/packages/88/c0/5890b4c8b04a79b7360e8fe4490feb0bb3ab179743f199f0e6220cebd568/aiohttp-3.7.4.post0-cp37-cp37m-manylinux2014_x86_64.whl (1.3MB)\n",
            "\u001b[K     |████████████████████████████████| 1.3MB 7.5MB/s \n",
            "\u001b[?25hRequirement already satisfied: urllib3!=1.25.0,!=1.25.1,<1.26,>=1.21.1 in /usr/local/lib/python3.7/dist-packages (from requests->alpha_vantage) (1.24.3)\n",
            "Requirement already satisfied: certifi>=2017.4.17 in /usr/local/lib/python3.7/dist-packages (from requests->alpha_vantage) (2020.12.5)\n",
            "Requirement already satisfied: chardet<4,>=3.0.2 in /usr/local/lib/python3.7/dist-packages (from requests->alpha_vantage) (3.0.4)\n",
            "Requirement already satisfied: idna<3,>=2.5 in /usr/local/lib/python3.7/dist-packages (from requests->alpha_vantage) (2.10)\n",
            "Collecting multidict<7.0,>=4.5\n",
            "\u001b[?25l  Downloading https://files.pythonhosted.org/packages/7c/a6/4123b8165acbe773d1a8dc8e3f0d1edea16d29f7de018eda769abb56bd30/multidict-5.1.0-cp37-cp37m-manylinux2014_x86_64.whl (142kB)\n",
            "\u001b[K     |████████████████████████████████| 143kB 35.5MB/s \n",
            "\u001b[?25hRequirement already satisfied: typing-extensions>=3.6.5 in /usr/local/lib/python3.7/dist-packages (from aiohttp->alpha_vantage) (3.7.4.3)\n",
            "Requirement already satisfied: attrs>=17.3.0 in /usr/local/lib/python3.7/dist-packages (from aiohttp->alpha_vantage) (20.3.0)\n",
            "Collecting async-timeout<4.0,>=3.0\n",
            "  Downloading https://files.pythonhosted.org/packages/e1/1e/5a4441be21b0726c4464f3f23c8b19628372f606755a9d2e46c187e65ec4/async_timeout-3.0.1-py3-none-any.whl\n",
            "Collecting yarl<2.0,>=1.0\n",
            "\u001b[?25l  Downloading https://files.pythonhosted.org/packages/f1/62/046834c5fc998c88ab2ef722f5d42122230a632212c8afa76418324f53ff/yarl-1.6.3-cp37-cp37m-manylinux2014_x86_64.whl (294kB)\n",
            "\u001b[K     |████████████████████████████████| 296kB 37.5MB/s \n",
            "\u001b[?25hInstalling collected packages: multidict, async-timeout, yarl, aiohttp, alpha-vantage\n",
            "Successfully installed aiohttp-3.7.4.post0 alpha-vantage-2.3.1 async-timeout-3.0.1 multidict-5.1.0 yarl-1.6.3\n"
          ],
          "name": "stdout"
        }
      ]
    },
    {
      "cell_type": "code",
      "metadata": {
        "colab": {
          "base_uri": "https://localhost:8080/"
        },
        "id": "XG6kPCnzfT0h",
        "outputId": "d8ab4f61-6e9f-472d-8dcc-b566ca043c17"
      },
      "source": [
        "pip install matplotlib"
      ],
      "execution_count": null,
      "outputs": [
        {
          "output_type": "stream",
          "text": [
            "Requirement already satisfied: matplotlib in /usr/local/lib/python3.7/dist-packages (3.2.2)\n",
            "Requirement already satisfied: python-dateutil>=2.1 in /usr/local/lib/python3.7/dist-packages (from matplotlib) (2.8.1)\n",
            "Requirement already satisfied: cycler>=0.10 in /usr/local/lib/python3.7/dist-packages (from matplotlib) (0.10.0)\n",
            "Requirement already satisfied: pyparsing!=2.0.4,!=2.1.2,!=2.1.6,>=2.0.1 in /usr/local/lib/python3.7/dist-packages (from matplotlib) (2.4.7)\n",
            "Requirement already satisfied: numpy>=1.11 in /usr/local/lib/python3.7/dist-packages (from matplotlib) (1.19.5)\n",
            "Requirement already satisfied: kiwisolver>=1.0.1 in /usr/local/lib/python3.7/dist-packages (from matplotlib) (1.3.1)\n",
            "Requirement already satisfied: six>=1.5 in /usr/local/lib/python3.7/dist-packages (from python-dateutil>=2.1->matplotlib) (1.15.0)\n"
          ],
          "name": "stdout"
        }
      ]
    },
    {
      "cell_type": "code",
      "metadata": {
        "colab": {
          "base_uri": "https://localhost:8080/"
        },
        "id": "5B1S8fE6fWAa",
        "outputId": "f0736b70-e95d-4358-8d1a-51f686a3dbb5"
      },
      "source": [
        "pip install pysqlite3"
      ],
      "execution_count": 8,
      "outputs": [
        {
          "output_type": "stream",
          "text": [
            "Requirement already satisfied: pysqlite3 in /usr/local/lib/python3.7/dist-packages (0.4.6)\n"
          ],
          "name": "stdout"
        }
      ]
    },
    {
      "cell_type": "code",
      "metadata": {
        "colab": {
          "base_uri": "https://localhost:8080/"
        },
        "id": "iiFyLwdTfZel",
        "outputId": "9496ea50-9b4c-44e5-bbdf-26ce25bde581"
      },
      "source": [
        "pip install pandas"
      ],
      "execution_count": null,
      "outputs": [
        {
          "output_type": "stream",
          "text": [
            "Requirement already satisfied: pandas in /usr/local/lib/python3.7/dist-packages (1.1.5)\n",
            "Requirement already satisfied: pytz>=2017.2 in /usr/local/lib/python3.7/dist-packages (from pandas) (2018.9)\n",
            "Requirement already satisfied: python-dateutil>=2.7.3 in /usr/local/lib/python3.7/dist-packages (from pandas) (2.8.1)\n",
            "Requirement already satisfied: numpy>=1.15.4 in /usr/local/lib/python3.7/dist-packages (from pandas) (1.19.5)\n",
            "Requirement already satisfied: six>=1.5 in /usr/local/lib/python3.7/dist-packages (from python-dateutil>=2.7.3->pandas) (1.15.0)\n"
          ],
          "name": "stdout"
        }
      ]
    },
    {
      "cell_type": "code",
      "metadata": {
        "colab": {
          "base_uri": "https://localhost:8080/",
          "height": 1000
        },
        "id": "tZ82Sr1ffqQ9",
        "outputId": "36731bf6-a9fc-4128-b078-5c2d8fccf667"
      },
      "source": [
        "    import numpy as np\n",
        "    import pandas as pd\n",
        "    import matplotlib.pyplot as plt\n",
        "    import sqlite3\n",
        "    from alpha_vantage.timeseries import TimeSeries\n",
        "    import matplotlib\n",
        "    import json\n",
        "\n",
        "    #CRIANDO A BASE DE DADOS SQLITE3\n",
        "    # database=\"stock.db\"\n",
        "    # conn = sqlite3.connect(database)\n",
        "    # cursor = conn.cursor()\n",
        "    # cursor.execute('''CREATE TABLE IF NOT EXISTS stocks \n",
        "    #                 (id INTEGER PRIMARY KEY, \n",
        "    #                     ticker VARCHAR(10), \n",
        "    #                     nome VARCHAR(10), \n",
        "    #                     data DATA, \n",
        "    #                     ativo VARCHAR(10), \n",
        "    #                     preco FLOAT)''')\n",
        "\n",
        "    matplotlib.rcParams['figure.figsize'] = (16, 8)\n",
        "\n",
        "    print('CARREGANDO DADOS...')\n",
        "\n",
        "    # BUSCA A CHAVE DA API ALPHA VANTAGE\n",
        "    ALPHAVANTAGE_API_KEY = 'QKWVUQ6IISGPG3F8'\n",
        "\n",
        "    ts = TimeSeries(key = ALPHAVANTAGE_API_KEY, output_format='pandas')\n",
        "\n",
        "    b3sa3_data, b3sa3_md = ts.get_daily(symbol = ('B3SA3.SAO'), outputsize = 'compact')\n",
        "    b3sa3_symbol = ts.get_symbol_search('B3SA3.SAO')\n",
        "    #print('ATIVO: B3SA3', b3sa3_data)\n",
        "\n",
        "    petr4_data, petr4_md = ts.get_daily(symbol = ('PETR4.SAO'), outputsize = 'compact')\n",
        "    petr4_symbol = ts.get_symbol_search('PETR4.SAO')\n",
        "    #print('ATIVO: PETR4', petr4_data)\n",
        "\n",
        "    df_petr4Symbol = pd.DataFrame(petr4_data, columns=['1. symbol', '2. name', '4. region' ])\n",
        "    df_petr4Symbol = df_petr4Symbol.fillna(\"\")\n",
        "    \n",
        "    df_b3sa3 = pd.DataFrame(b3sa3_data, columns = ['4. close'])\n",
        "    df_b3sa3 = df_b3sa3.fillna(\"\")\n",
        "\n",
        "    # INSERINDO OS DADOS DA B3SA3 NO BANCO DE DADOS\n",
        "    conn = sqlite3.connect('stock.db')\n",
        "\n",
        "    b3sa3_data.to_sql('b3sa3', conn)  \n",
        "    petr4_data.to_sql('petr4', conn)  \n",
        "    \n",
        "\n",
        "    load_b3sa3 = pd.read_sql('SELECT * FROM b3sa3', conn) \n",
        "    load_petr4 = pd.read_sql('SELECT * FROM petr4', conn)  \n",
        "    \n",
        "    print('DADOS CARREGADOS DE B3SA3:')\n",
        "    print(load_b3sa3)\n",
        "\n",
        "    print('DADOS CARREGADOS DE PETR4:')\n",
        "    print(load_petr4)\n",
        "\n",
        "    print('PETR4 SEARCH SYMBOL RESULT: {} \\n'.format(petr4_symbol))\n",
        "\n",
        "    # -----------------------------------------------------------------\n",
        "\n",
        "    # print('B3SA3 DATAFRAME: {}'.format(df_b3sa3))\n",
        "    # df_b3sa3.to_csv (r'b3sa3_dataframe.csv', index = False, header=True)\n",
        "\n",
        "  \n",
        "    # print('PETR4 DATAFRAME: ', df_petr4Symbol)    \n",
        "    # df_petr4Symbol.to_csv (r'PETR4_dataframe.csv', index = False, header=True)\n",
        "\n",
        "    \n",
        "    #print('B3SA3 SEARCH SYMBOL RESULT: {} \\n'.format(b3sa3_symbol))\n",
        "\n",
        "    #PLOTANDOO RESULTADO ADQUIRIDO\n",
        "    plt.title('Daily Time Series for the B3SA3 stock (close)')\n",
        "    plt.plot(b3sa3_data['4. close'])\n",
        "    plt.plot(petr4_data['4. close'])\n",
        "    # plt.plot([1, 2, 3], label=\"test1\")\n",
        "    # plt.plot([3, 2, 1], label=\"test2\")\n",
        "\n",
        "    plt.xlabel(\"YEAR\")\n",
        "    plt.ylabel(\"POINTS\")\n",
        "\n",
        "    plt.show()\n",
        "\n",
        "    # for index, row in df_b3sa3.iterrows():\n",
        "    #   cursor.execute(\"INSERT INTO stocks(preco) VALUES (?)\", (row['4. close'],))"
      ],
      "execution_count": null,
      "outputs": [
        {
          "output_type": "stream",
          "text": [
            "CARREGANDO DADOS...\n"
          ],
          "name": "stdout"
        },
        {
          "output_type": "stream",
          "text": [
            "/usr/local/lib/python3.7/dist-packages/pandas/core/generic.py:2615: UserWarning: The spaces in these column names will not be changed. In pandas versions < 0.14, spaces were converted to underscores.\n",
            "  method=method,\n"
          ],
          "name": "stderr"
        },
        {
          "output_type": "stream",
          "text": [
            "DADOS CARREGADOS DE B3SA3:\n",
            "                   date  1. open  2. high  3. low  4. close   5. volume\n",
            "0   2021-05-10 00:00:00    52.82    53.58   52.45     53.30  10901300.0\n",
            "1   2021-05-07 00:00:00    51.45    53.56   51.41     53.34  20388600.0\n",
            "2   2021-05-06 00:00:00    51.50    51.54   50.12     50.80  22305600.0\n",
            "3   2021-05-05 00:00:00   152.40   155.46  151.89    154.50   9146800.0\n",
            "4   2021-05-04 00:00:00   154.65   155.13  151.05    152.01   9886700.0\n",
            "..                  ...      ...      ...     ...       ...         ...\n",
            "95  2020-12-15 00:00:00   175.08   177.69  173.91    176.64   9579700.0\n",
            "96  2020-12-14 00:00:00   177.78   178.20  172.86    174.84   7969200.0\n",
            "97  2020-12-11 00:00:00   174.30   177.51  171.72    176.52  11305800.0\n",
            "98  2020-12-10 00:00:00   170.52   175.05  164.58    174.63  18219699.0\n",
            "99  2020-12-09 00:00:00   173.40   174.48  168.84    169.95  16050900.0\n",
            "\n",
            "[100 rows x 6 columns]\n",
            "DADOS CARREGADOS DE PETR4:\n",
            "                   date  1. open  2. high  3. low  4. close   5. volume\n",
            "0   2021-05-10 00:00:00    24.80    24.98   24.58     24.70  73594200.0\n",
            "1   2021-05-07 00:00:00    23.64    24.45   23.46     24.38  73691000.0\n",
            "2   2021-05-06 00:00:00    23.71    23.85   23.40     23.50  53646000.0\n",
            "3   2021-05-05 00:00:00    23.17    23.95   23.12     23.83  75377297.0\n",
            "4   2021-05-04 00:00:00    23.54    23.64   22.88     22.89  43705000.0\n",
            "..                  ...      ...      ...     ...       ...         ...\n",
            "95  2020-12-15 00:00:00    27.80    27.99   27.64     27.85  47208200.0\n",
            "96  2020-12-14 00:00:00    28.03    28.27   27.62     27.62  53159500.0\n",
            "97  2020-12-11 00:00:00    27.49    27.84   27.28     27.57  48334300.0\n",
            "98  2020-12-10 00:00:00    27.19    28.20   27.13     27.82  97537100.0\n",
            "99  2020-12-09 00:00:00    26.63    26.97   26.40     26.94  52448300.0\n",
            "\n",
            "[100 rows x 6 columns]\n",
            "PETR4 SEARCH SYMBOL RESULT: (            1. symbol  ... 9. matchScore\n",
            "date                   ...              \n",
            "1970-01-01  PETR4.SAO  ...        1.0000\n",
            "\n",
            "[1 rows x 9 columns], None) \n",
            "\n"
          ],
          "name": "stdout"
        },
        {
          "output_type": "display_data",
          "data": {
            "image/png": "[encoded data removed]",
            "text/plain": [
              "<Figure size 1152x576 with 1 Axes>"
            ]
          },
          "metadata": {
            "tags": [],
            "needs_background": "light"
          }
        }
      ]
    },
    {
      "cell_type": "code",
      "metadata": {
        "colab": {
          "base_uri": "https://localhost:8080/",
          "height": 1000
        },
        "id": "tLHAWfH4hXiL",
        "outputId": "39512b70-f1c8-4eb8-ab9f-36f2e6a23da3"
      },
      "source": [
        "#! /usr/bin/python3\n",
        "\n",
        "import numpy as np\n",
        "import pandas as pd\n",
        "import matplotlib.pyplot as plt\n",
        "import sqlite3\n",
        "from alpha_vantage.timeseries import TimeSeries\n",
        "import matplotlib\n",
        "import json\n",
        "import datetime\n",
        "\n",
        "matplotlib.rcParams['figure.figsize'] = (16, 8)\n",
        "\n",
        "print('CARREGANDO DADOS...')\n",
        "\n",
        "# BUSCA A CHAVE DA API ALPHA VANTAGE\n",
        "ALPHAVANTAGE_API_KEY = 'QKWVUQ6IISGPG3F8'\n",
        "\n",
        "ts = TimeSeries(key = ALPHAVANTAGE_API_KEY, output_format='pandas')\n",
        "\n",
        "# BUSCANDO DADOS DE B3SA3...\n",
        "\n",
        "class Stock:\n",
        "  def __init__(self, stock_name):\n",
        "    self.__stock_name = stock_name\n",
        "    self.__data, self.__metaData = ts.get_daily(symbol = (f'{ stock_name }.SAO'), outputsize = 'compact')\n",
        "    self.__symbol, self.__SymbolMetaData = ts.get_symbol_search(f'{ stock_name }.SAO')\n",
        "\n",
        "    self.conn = sqlite3.connect('stock.db')\n",
        "    self.__data.to_sql(f'{stock_name}', self.conn, if_exists='replace') \n",
        "    self.__symbol.to_sql(f'{self.__symbol}', self.conn, if_exists='replace') \n",
        "    #print(self.__symbol)\n",
        "      \n",
        "  def busca(self, _days):\n",
        "    date = datetime.datetime.now() - datetime.timedelta(days=_days)\n",
        "    date_string = date.strftime('%Y-%m-%d')    \n",
        "    \n",
        "    #cursos.execute(f'INSERT INTO {self.__stock_name} (date, 1. open, 2. high, 3. low, 4. close, 5. volume) VALUES(?,?,?,?,?)',())    \n",
        "\n",
        "    query = pd.read_sql(f'SELECT * FROM { self.__stock_name } WHERE date >= \"{ date_string }\"', self.conn) \n",
        "    df = pd.DataFrame(query, columns=['date','4. close'])\n",
        "\n",
        "    querySymbol = pd.read_sql(f'SELECT * FROM { self.__stock_name } WHERE date >= \"{ date_string }\"', self.conn) \n",
        "    dfs = pd.DataFrame(querySymbol, columns=['1. symbol', '2. name'])\n",
        "\n",
        "    print(f'DADOS CARREGADOS DE { self.__stock_name }:')\n",
        "    print(df)\n",
        "    print(dfs)\n",
        "\n",
        "    return df\n",
        "\n",
        "b3sa3_stock = Stock('B3SA3')\n",
        "petr4_stock = Stock('PETR4')\n",
        "\n",
        "b3sa3_data = b3sa3_stock.busca(7) # BUSCA POR DADOS DA ÚLTIMA SEMANA\n",
        "petr4_data = petr4_stock.busca(7) # BUSCA POR DADOS DA ÚLTIMA SEMANA\n",
        "\n",
        "plt.title('Daily Time Series for the B3SA3 stock (close)')\n",
        "plt.plot(b3sa3_data['4. close'])\n",
        "plt.plot(petr4_data['4. close'])\n",
        "\n",
        "plt.xlabel(\"YEAR\")\n",
        "plt.ylabel(\"POINTS\")\n",
        "\n",
        "plt.plot([], label='B3SA3')\n",
        "plt.legend()\n",
        "\n",
        "plt.plot([], label='PETR4')\n",
        "plt.legend()\n",
        "\n",
        "plt.show()"
      ],
      "execution_count": 29,
      "outputs": [
        {
          "output_type": "stream",
          "text": [
            "CARREGANDO DADOS...\n"
          ],
          "name": "stdout"
        },
        {
          "output_type": "stream",
          "text": [
            "/usr/local/lib/python3.7/dist-packages/pandas/core/generic.py:2615: UserWarning: The spaces in these column names will not be changed. In pandas versions < 0.14, spaces were converted to underscores.\n",
            "  method=method,\n",
            "/usr/local/lib/python3.7/dist-packages/pandas/core/generic.py:2615: UserWarning: The spaces in these column names will not be changed. In pandas versions < 0.14, spaces were converted to underscores.\n",
            "  method=method,\n",
            "/usr/local/lib/python3.7/dist-packages/pandas/core/generic.py:2615: UserWarning: The spaces in these column names will not be changed. In pandas versions < 0.14, spaces were converted to underscores.\n",
            "  method=method,\n"
          ],
          "name": "stderr"
        },
        {
          "output_type": "stream",
          "text": [
            "DADOS CARREGADOS DE B3SA3:\n",
            "                  date  4. close\n",
            "0  2021-05-04 00:00:00    152.01\n",
            "1  2021-05-05 00:00:00     51.50\n",
            "2  2021-05-06 00:00:00     50.80\n",
            "3  2021-05-07 00:00:00     53.34\n",
            "4  2021-05-10 00:00:00     53.30\n",
            "   1. symbol  2. name\n",
            "0        NaN      NaN\n",
            "1        NaN      NaN\n",
            "2        NaN      NaN\n",
            "3        NaN      NaN\n",
            "4        NaN      NaN\n",
            "DADOS CARREGADOS DE PETR4:\n",
            "                  date  4. close\n",
            "0  2021-05-04 00:00:00     22.89\n",
            "1  2021-05-05 00:00:00     23.83\n",
            "2  2021-05-06 00:00:00     23.50\n",
            "3  2021-05-07 00:00:00     24.38\n",
            "4  2021-05-10 00:00:00     24.70\n",
            "   1. symbol  2. name\n",
            "0        NaN      NaN\n",
            "1        NaN      NaN\n",
            "2        NaN      NaN\n",
            "3        NaN      NaN\n",
            "4        NaN      NaN\n"
          ],
          "name": "stdout"
        },
        {
          "output_type": "display_data",
          "data": {
            "image/png": "[encoded data removed]",
            "text/plain": [
              "<Figure size 1152x576 with 1 Axes>"
            ]
          },
          "metadata": {
            "tags": [],
            "needs_background": "light"
          }
        }
      ]
    },
    {
      "cell_type": "markdown",
      "metadata": {
        "id": "NFBUgGHAcKgI"
      },
      "source": [
        "\n"
      ]
    },
    {
      "cell_type": "markdown",
      "metadata": {
        "id": "me31pPeWcK-5"
      },
      "source": [
        "# New Section"
      ]
    }
  ]
}